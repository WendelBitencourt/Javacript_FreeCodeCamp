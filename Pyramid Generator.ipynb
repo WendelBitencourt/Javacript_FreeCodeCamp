{
 "cells": [
  {
   "cell_type": "markdown",
   "metadata": {},
   "source": [
    "\n",
    "# <span style=\"color:green\">JavaScript Pyramid Generator</span>\n",
    "\n",
    "### <span style=\"color: red\">Step 1</span>\n",
    "\n",
    "JavaScript is the programming language that powers the web. Unlike the HTML and CSS you have learned previously, JavaScript is most commonly used to write logic instead of markup.\n",
    "\n",
    "In this project, you will learn the basics of Javascript and apply those concepts to building a pyramid generator.\n",
    "\n",
    "A pyramid generator is a program where you can set the type of character, the count for the pyramid, and the direction of the pyramid. The program will then generate a pyramid based on those inputs.\n"
   ]
  },
  {
   "cell_type": "code",
   "execution_count": 1,
   "metadata": {},
   "outputs": [
    {
     "name": "stdout",
     "output_type": "stream",
     "text": [
      "    #    \n",
      "   ###   \n",
      "  #####  \n",
      " ####### \n",
      "#########\n"
     ]
    }
   ],
   "source": [
    "console.log(\"    #    \");\n",
    "console.log(\"   ###   \");\n",
    "console.log(\"  #####  \");\n",
    "console.log(\" ####### \");\n",
    "console.log(\"#########\");"
   ]
  },
  {
   "cell_type": "markdown",
   "metadata": {},
   "source": [
    "### <span style=\"color: red\">Step 2</span>\n",
    "\n",
    "One of the most important concepts in programming is variables. A variable points to a specific memory address that stores a value. Variables are given a name which can be used throughout your code to access that value.\n",
    "\n",
    "Declaring a variable means giving it a name. In JavaScript, this is often done with the let keyword. For example, here is how you would declare a hello variable:\n",
    "\n",
    "```js\n",
    "let hello;\n",
    "```\n",
    "\n",
    "Variable naming follows specific rules: names can include letters, numbers, dollar signs, and underscores, but cannot contain spaces and must not begin with a number.\n",
    "\n",
    "Use the let keyword to declare a variable called character.\n",
    "\n",
    "Note: It is common practice to end statements in JavaScript with a semicolon. ;"
   ]
  },
  {
   "cell_type": "code",
   "execution_count": 3,
   "metadata": {},
   "outputs": [],
   "source": [
    "let character;"
   ]
  },
  {
   "cell_type": "markdown",
   "metadata": {},
   "source": [
    "### <span style=\"color: red\">Step 3</span>\n",
    "\n",
    "Your character variable currently does not have a value. You can assign a value using the assignment operator =. For example:\n",
    "\n",
    "```js\n",
    "let hello = \"Hello\";\n",
    "\n",
    "```\n",
    "Assigning a value to a variable at the moment of its declaration is known as initialization.\n",
    "\n",
    "Initialize your character variable by assigning it the value \"Hello\" during its declaration."
   ]
  },
  {
   "cell_type": "code",
   "execution_count": 4,
   "metadata": {},
   "outputs": [],
   "source": [
    "let character = \"Hello\";"
   ]
  },
  {
   "cell_type": "markdown",
   "metadata": {},
   "source": [
    "### <span style=\"color: red\">Step 4</span>\n",
    "\n",
    "JavaScript has seven primitive data types, with String being one of them. In JavaScript, a string represents a sequence of characters and can be enclosed in either single (') or double (\") quotes.\n",
    "\n",
    "Note that strings are immutable, which means once they are created, they cannot be changed. The variable can still be reassigned another value.\n",
    "\n",
    "Change your \"Hello\" string to use single quotes.\n"
   ]
  },
  {
   "cell_type": "code",
   "execution_count": null,
   "metadata": {},
   "outputs": [],
   "source": [
    "let character = 'Hello';"
   ]
  },
  {
   "cell_type": "markdown",
   "metadata": {},
   "source": [
    "### <span style=\"color: red\">Step 5</span>\n",
    "\n",
    "The console allows you to print and view JavaScript output. You can send information to the console using console.log(). For example, this code will print \"Naomi\" to the console:\n",
    "\n",
    "```js\n",
    "let developer = \"Naomi\";\n",
    "console.log(developer);\n",
    "\n",
    "```\n",
    "\n",
    "The code above accesses the developer variable with its name in the console.log(). Note that the value between the parentheses is the value that will be printed.\n",
    "\n",
    "Print the value of the character variable to the console. Then, click the \"Console\" button to view the JavaScript console."
   ]
  },
  {
   "cell_type": "code",
   "execution_count": 5,
   "metadata": {},
   "outputs": [
    {
     "name": "stdout",
     "output_type": "stream",
     "text": [
      "Hello\n"
     ]
    }
   ],
   "source": [
    "let character = 'Hello';\n",
    "console.log(character);"
   ]
  },
  {
   "cell_type": "markdown",
   "metadata": {},
   "source": [
    "### <span style=\"color: red\">Step 6</span>\n",
    "\n",
    "When a variable is declared with the let keyword, you can reassign (or change the value of) that variable later on. In this example, the value of programmer is changed from \"Naomi\" to \"CamperChan\".\n",
    "\n",
    "```js\n",
    "let programmer = \"Naomi\";\n",
    "programmer = \"CamperChan\";\n",
    "```\n",
    "\n",
    "Note that when reassigning a variable, you do not use the let keyword again.\n",
    "\n",
    "After your console.log, assign the value \"World\" to your character variable."
   ]
  },
  {
   "cell_type": "code",
   "execution_count": 7,
   "metadata": {},
   "outputs": [
    {
     "name": "stdout",
     "output_type": "stream",
     "text": [
      "Hello\n"
     ]
    },
    {
     "data": {
      "text/plain": [
       "\u001b[32m\"World\"\u001b[39m"
      ]
     },
     "execution_count": 7,
     "metadata": {},
     "output_type": "execute_result"
    }
   ],
   "source": [
    "let character = 'Hello';\n",
    "console.log(character);\n",
    "character = \"World\";\n"
   ]
  },
  {
   "cell_type": "markdown",
   "metadata": {},
   "source": [
    "### <span style=\"color: red\">Step 7</span>\n",
    "\n",
    "Now log your character variable to the console again. You should see the string \"Hello\", then the string \"World\", in the console.\n"
   ]
  },
  {
   "cell_type": "code",
   "execution_count": 8,
   "metadata": {},
   "outputs": [
    {
     "name": "stdout",
     "output_type": "stream",
     "text": [
      "Hello\n",
      "World\n"
     ]
    }
   ],
   "source": [
    "let character = 'Hello';\n",
    "console.log(character);\n",
    "character = \"World\";\n",
    "console.log(character);"
   ]
  },
  {
   "cell_type": "markdown",
   "metadata": {},
   "source": [
    "### <span style=\"color: red\">Step 8</span>\n"
   ]
  }
 ],
 "metadata": {
  "kernelspec": {
   "display_name": "Deno",
   "language": "typescript",
   "name": "deno"
  },
  "language_info": {
   "codemirror_mode": "typescript",
   "file_extension": ".ts",
   "mimetype": "text/x.typescript",
   "name": "typescript",
   "nbconvert_exporter": "script",
   "pygments_lexer": "typescript",
   "version": "5.5.2"
  }
 },
 "nbformat": 4,
 "nbformat_minor": 2
}
