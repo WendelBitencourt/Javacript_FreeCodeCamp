{
 "cells": [
  {
   "cell_type": "markdown",
   "metadata": {},
   "source": [
    "\n",
    "# <span style=\"color:green\">JavaScript Pyramid Generator</span>\n",
    "\n",
    "### <span style=\"color: red\">Step 1</span>\n",
    "\n",
    "JavaScript is the programming language that powers the web. Unlike the HTML and CSS you have learned previously, JavaScript is most commonly used to write logic instead of markup.\n",
    "\n",
    "In this project, you will learn the basics of Javascript and apply those concepts to building a pyramid generator.\n",
    "\n",
    "A pyramid generator is a program where you can set the type of character, the count for the pyramid, and the direction of the pyramid. The program will then generate a pyramid based on those inputs.\n"
   ]
  }
 ],
 "metadata": {
  "kernelspec": {
   "display_name": "Deno",
   "language": "typescript",
   "name": "deno"
  },
  "language_info": {
   "name": "typescript"
  }
 },
 "nbformat": 4,
 "nbformat_minor": 2
}
